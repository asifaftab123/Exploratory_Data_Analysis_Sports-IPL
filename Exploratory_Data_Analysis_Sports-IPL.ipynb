{
 "cells": [
  {
   "cell_type": "markdown",
   "metadata": {},
   "source": [
    "# Exploratory Data Analysis - Sports (IPL)\n",
    "\n",
    "## Md Asif Aftab\n",
    "\n",
    "### TSF - Task 5\n",
    "\n",
    "#### I Divide This Analysis Into 3 Section:-\n",
    "\n",
    "##### Section - 1 : Analysis Of IPL Teams.\n",
    "\n",
    "##### Section - 2 : Analysis Of IPL Players.\n",
    "\n",
    "##### Section - 3 : Analysis Of IPL Matches."
   ]
  },
  {
   "cell_type": "code",
   "execution_count": null,
   "metadata": {},
   "outputs": [],
   "source": []
  }
 ],
 "metadata": {
  "celltoolbar": "Raw Cell Format",
  "kernelspec": {
   "display_name": "Python 3",
   "language": "python",
   "name": "python3"
  },
  "language_info": {
   "codemirror_mode": {
    "name": "ipython",
    "version": 3
   },
   "file_extension": ".py",
   "mimetype": "text/x-python",
   "name": "python",
   "nbconvert_exporter": "python",
   "pygments_lexer": "ipython3",
   "version": "3.7.6"
  }
 },
 "nbformat": 4,
 "nbformat_minor": 4
}
